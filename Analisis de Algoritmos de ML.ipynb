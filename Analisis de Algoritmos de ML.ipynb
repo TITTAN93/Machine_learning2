{
 "cells": [
  {
   "cell_type": "markdown",
   "id": "201a59ad",
   "metadata": {},
   "source": [
    "# Analisis de calidad del vino"
   ]
  },
  {
   "cell_type": "markdown",
   "id": "f757cc84",
   "metadata": {},
   "source": [
    "* <b> Autor: </b> Omar Vigueras"
   ]
  },
  {
   "cell_type": "markdown",
   "id": "e38e2a64",
   "metadata": {},
   "source": [
    "<b> Objetivo: </b> Desarrollar 3 analisis de clasificación para el conjunto de datos de \"wine\" el cual es un conjunto de datos que Mediante el análisis químico determina el origen de los vinos\n",
    "***"
   ]
  },
  {
   "cell_type": "markdown",
   "id": "37d7897c",
   "metadata": {},
   "source": [
    "### P1. Importar Librerias y carga del dataset:"
   ]
  },
  {
   "cell_type": "code",
   "execution_count": 1,
   "id": "6d9e0c45",
   "metadata": {},
   "outputs": [],
   "source": [
    "import pandas as pd\n",
    "import os\n",
    "import statsmodels.api as sm\n",
    "import matplotlib.pyplot as plt\n",
    "from sklearn.model_selection import train_test_split #librería para entrenar al modelo\n",
    "from sklearn import metrics #librería para trabajar las métricas de predicción del modelo\n",
    "import numpy as np"
   ]
  },
  {
   "cell_type": "code",
   "execution_count": 2,
   "id": "5dd92867",
   "metadata": {},
   "outputs": [
    {
     "name": "stdout",
     "output_type": "stream",
     "text": [
      "número de columnas:  14\n"
     ]
    },
    {
     "data": {
      "text/html": [
       "<div>\n",
       "<style scoped>\n",
       "    .dataframe tbody tr th:only-of-type {\n",
       "        vertical-align: middle;\n",
       "    }\n",
       "\n",
       "    .dataframe tbody tr th {\n",
       "        vertical-align: top;\n",
       "    }\n",
       "\n",
       "    .dataframe thead th {\n",
       "        text-align: right;\n",
       "    }\n",
       "</style>\n",
       "<table border=\"1\" class=\"dataframe\">\n",
       "  <thead>\n",
       "    <tr style=\"text-align: right;\">\n",
       "      <th></th>\n",
       "      <th>Clase</th>\n",
       "      <th>Alcohol</th>\n",
       "      <th>Malic acid</th>\n",
       "      <th>Ash</th>\n",
       "      <th>Alcalinity of ash</th>\n",
       "      <th>Magnesium</th>\n",
       "      <th>Total phenols</th>\n",
       "      <th>Flavanoids</th>\n",
       "      <th>Nonflavanoid phenols</th>\n",
       "      <th>Proanthocyanins</th>\n",
       "      <th>Color intensity</th>\n",
       "      <th>Hue</th>\n",
       "      <th>OD280/OD315 of diluted wines</th>\n",
       "      <th>Proline</th>\n",
       "    </tr>\n",
       "  </thead>\n",
       "  <tbody>\n",
       "    <tr>\n",
       "      <th>0</th>\n",
       "      <td>1</td>\n",
       "      <td>14.23</td>\n",
       "      <td>1.71</td>\n",
       "      <td>2.43</td>\n",
       "      <td>15.6</td>\n",
       "      <td>127</td>\n",
       "      <td>2.80</td>\n",
       "      <td>3.06</td>\n",
       "      <td>0.28</td>\n",
       "      <td>2.29</td>\n",
       "      <td>5.64</td>\n",
       "      <td>1.04</td>\n",
       "      <td>3.92</td>\n",
       "      <td>1065</td>\n",
       "    </tr>\n",
       "    <tr>\n",
       "      <th>1</th>\n",
       "      <td>1</td>\n",
       "      <td>13.20</td>\n",
       "      <td>1.78</td>\n",
       "      <td>2.14</td>\n",
       "      <td>11.2</td>\n",
       "      <td>100</td>\n",
       "      <td>2.65</td>\n",
       "      <td>2.76</td>\n",
       "      <td>0.26</td>\n",
       "      <td>1.28</td>\n",
       "      <td>4.38</td>\n",
       "      <td>1.05</td>\n",
       "      <td>3.40</td>\n",
       "      <td>1050</td>\n",
       "    </tr>\n",
       "    <tr>\n",
       "      <th>2</th>\n",
       "      <td>1</td>\n",
       "      <td>13.16</td>\n",
       "      <td>2.36</td>\n",
       "      <td>2.67</td>\n",
       "      <td>18.6</td>\n",
       "      <td>101</td>\n",
       "      <td>2.80</td>\n",
       "      <td>3.24</td>\n",
       "      <td>0.30</td>\n",
       "      <td>2.81</td>\n",
       "      <td>5.68</td>\n",
       "      <td>1.03</td>\n",
       "      <td>3.17</td>\n",
       "      <td>1185</td>\n",
       "    </tr>\n",
       "    <tr>\n",
       "      <th>3</th>\n",
       "      <td>1</td>\n",
       "      <td>14.37</td>\n",
       "      <td>1.95</td>\n",
       "      <td>2.50</td>\n",
       "      <td>16.8</td>\n",
       "      <td>113</td>\n",
       "      <td>3.85</td>\n",
       "      <td>3.49</td>\n",
       "      <td>0.24</td>\n",
       "      <td>2.18</td>\n",
       "      <td>7.80</td>\n",
       "      <td>0.86</td>\n",
       "      <td>3.45</td>\n",
       "      <td>1480</td>\n",
       "    </tr>\n",
       "    <tr>\n",
       "      <th>4</th>\n",
       "      <td>1</td>\n",
       "      <td>13.24</td>\n",
       "      <td>2.59</td>\n",
       "      <td>2.87</td>\n",
       "      <td>21.0</td>\n",
       "      <td>118</td>\n",
       "      <td>2.80</td>\n",
       "      <td>2.69</td>\n",
       "      <td>0.39</td>\n",
       "      <td>1.82</td>\n",
       "      <td>4.32</td>\n",
       "      <td>1.04</td>\n",
       "      <td>2.93</td>\n",
       "      <td>735</td>\n",
       "    </tr>\n",
       "    <tr>\n",
       "      <th>...</th>\n",
       "      <td>...</td>\n",
       "      <td>...</td>\n",
       "      <td>...</td>\n",
       "      <td>...</td>\n",
       "      <td>...</td>\n",
       "      <td>...</td>\n",
       "      <td>...</td>\n",
       "      <td>...</td>\n",
       "      <td>...</td>\n",
       "      <td>...</td>\n",
       "      <td>...</td>\n",
       "      <td>...</td>\n",
       "      <td>...</td>\n",
       "      <td>...</td>\n",
       "    </tr>\n",
       "    <tr>\n",
       "      <th>173</th>\n",
       "      <td>3</td>\n",
       "      <td>13.71</td>\n",
       "      <td>5.65</td>\n",
       "      <td>2.45</td>\n",
       "      <td>20.5</td>\n",
       "      <td>95</td>\n",
       "      <td>1.68</td>\n",
       "      <td>0.61</td>\n",
       "      <td>0.52</td>\n",
       "      <td>1.06</td>\n",
       "      <td>7.70</td>\n",
       "      <td>0.64</td>\n",
       "      <td>1.74</td>\n",
       "      <td>740</td>\n",
       "    </tr>\n",
       "    <tr>\n",
       "      <th>174</th>\n",
       "      <td>3</td>\n",
       "      <td>13.40</td>\n",
       "      <td>3.91</td>\n",
       "      <td>2.48</td>\n",
       "      <td>23.0</td>\n",
       "      <td>102</td>\n",
       "      <td>1.80</td>\n",
       "      <td>0.75</td>\n",
       "      <td>0.43</td>\n",
       "      <td>1.41</td>\n",
       "      <td>7.30</td>\n",
       "      <td>0.70</td>\n",
       "      <td>1.56</td>\n",
       "      <td>750</td>\n",
       "    </tr>\n",
       "    <tr>\n",
       "      <th>175</th>\n",
       "      <td>3</td>\n",
       "      <td>13.27</td>\n",
       "      <td>4.28</td>\n",
       "      <td>2.26</td>\n",
       "      <td>20.0</td>\n",
       "      <td>120</td>\n",
       "      <td>1.59</td>\n",
       "      <td>0.69</td>\n",
       "      <td>0.43</td>\n",
       "      <td>1.35</td>\n",
       "      <td>10.20</td>\n",
       "      <td>0.59</td>\n",
       "      <td>1.56</td>\n",
       "      <td>835</td>\n",
       "    </tr>\n",
       "    <tr>\n",
       "      <th>176</th>\n",
       "      <td>3</td>\n",
       "      <td>13.17</td>\n",
       "      <td>2.59</td>\n",
       "      <td>2.37</td>\n",
       "      <td>20.0</td>\n",
       "      <td>120</td>\n",
       "      <td>1.65</td>\n",
       "      <td>0.68</td>\n",
       "      <td>0.53</td>\n",
       "      <td>1.46</td>\n",
       "      <td>9.30</td>\n",
       "      <td>0.60</td>\n",
       "      <td>1.62</td>\n",
       "      <td>840</td>\n",
       "    </tr>\n",
       "    <tr>\n",
       "      <th>177</th>\n",
       "      <td>3</td>\n",
       "      <td>14.13</td>\n",
       "      <td>4.10</td>\n",
       "      <td>2.74</td>\n",
       "      <td>24.5</td>\n",
       "      <td>96</td>\n",
       "      <td>2.05</td>\n",
       "      <td>0.76</td>\n",
       "      <td>0.56</td>\n",
       "      <td>1.35</td>\n",
       "      <td>9.20</td>\n",
       "      <td>0.61</td>\n",
       "      <td>1.60</td>\n",
       "      <td>560</td>\n",
       "    </tr>\n",
       "  </tbody>\n",
       "</table>\n",
       "<p>178 rows × 14 columns</p>\n",
       "</div>"
      ],
      "text/plain": [
       "     Clase  Alcohol  Malic acid   Ash  Alcalinity of ash  Magnesium  \\\n",
       "0        1    14.23        1.71  2.43               15.6        127   \n",
       "1        1    13.20        1.78  2.14               11.2        100   \n",
       "2        1    13.16        2.36  2.67               18.6        101   \n",
       "3        1    14.37        1.95  2.50               16.8        113   \n",
       "4        1    13.24        2.59  2.87               21.0        118   \n",
       "..     ...      ...         ...   ...                ...        ...   \n",
       "173      3    13.71        5.65  2.45               20.5         95   \n",
       "174      3    13.40        3.91  2.48               23.0        102   \n",
       "175      3    13.27        4.28  2.26               20.0        120   \n",
       "176      3    13.17        2.59  2.37               20.0        120   \n",
       "177      3    14.13        4.10  2.74               24.5         96   \n",
       "\n",
       "     Total phenols  Flavanoids  Nonflavanoid phenols  Proanthocyanins  \\\n",
       "0             2.80        3.06                  0.28             2.29   \n",
       "1             2.65        2.76                  0.26             1.28   \n",
       "2             2.80        3.24                  0.30             2.81   \n",
       "3             3.85        3.49                  0.24             2.18   \n",
       "4             2.80        2.69                  0.39             1.82   \n",
       "..             ...         ...                   ...              ...   \n",
       "173           1.68        0.61                  0.52             1.06   \n",
       "174           1.80        0.75                  0.43             1.41   \n",
       "175           1.59        0.69                  0.43             1.35   \n",
       "176           1.65        0.68                  0.53             1.46   \n",
       "177           2.05        0.76                  0.56             1.35   \n",
       "\n",
       "     Color intensity   Hue  OD280/OD315 of diluted wines  Proline  \n",
       "0               5.64  1.04                          3.92     1065  \n",
       "1               4.38  1.05                          3.40     1050  \n",
       "2               5.68  1.03                          3.17     1185  \n",
       "3               7.80  0.86                          3.45     1480  \n",
       "4               4.32  1.04                          2.93      735  \n",
       "..               ...   ...                           ...      ...  \n",
       "173             7.70  0.64                          1.74      740  \n",
       "174             7.30  0.70                          1.56      750  \n",
       "175            10.20  0.59                          1.56      835  \n",
       "176             9.30  0.60                          1.62      840  \n",
       "177             9.20  0.61                          1.60      560  \n",
       "\n",
       "[178 rows x 14 columns]"
      ]
     },
     "execution_count": 2,
     "metadata": {},
     "output_type": "execute_result"
    }
   ],
   "source": [
    "# Link de descarga del dataset: https://archive.ics.uci.edu/ml/datasets/Wine\n",
    "    \n",
    "# Apertura del archivo.\n",
    "url = r\"C:\\Users\\igeom\\Documents\\00 Academicos\\03 MIA\\05 Cuatrimestre\\01 Machine learning\\wine.data\"\n",
    "dataset = pd.read_csv(url, sep=',' , header=None, names=[\"Clase\",\"Alcohol\",\"Malic acid\",\"Ash\",\"Alcalinity of ash\",\n",
    "                                                         \"Magnesium\",\"Total phenols\",\"Flavanoids\",\n",
    "                                                         \"Nonflavanoid phenols\",\"Proanthocyanins\",\n",
    "                                                         \"Color intensity\",\"Hue\",\"OD280/OD315 of diluted wines\",\"Proline\"])\n",
    "print(\"número de columnas: \", len(dataset.columns)) \n",
    "\n",
    "dataset"
   ]
  },
  {
   "cell_type": "code",
   "execution_count": 3,
   "id": "f1019e9a",
   "metadata": {},
   "outputs": [],
   "source": [
    "# preprocesamiento de las variables dependientes e independientes\n",
    "\n",
    "variables = dataset.iloc[:,1:].values # Variables independientes (X)\n",
    "resultado = dataset.iloc[:,0].values # Variables dependientes (y)x\n"
   ]
  },
  {
   "cell_type": "markdown",
   "id": "ddaaedb8",
   "metadata": {},
   "source": [
    "### P2. Analisis Exploratorio"
   ]
  },
  {
   "cell_type": "code",
   "execution_count": 37,
   "id": "f1a7fe32",
   "metadata": {},
   "outputs": [
    {
     "data": {
      "text/plain": [
       "<matplotlib.collections.PathCollection at 0x156cab86940>"
      ]
     },
     "execution_count": 37,
     "metadata": {},
     "output_type": "execute_result"
    },
    {
     "data": {
      "image/png": "[encoded data removed]",
      "text/plain": [
       "<Figure size 900x400 with 6 Axes>"
      ]
     },
     "metadata": {},
     "output_type": "display_data"
    }
   ],
   "source": [
    "fig, ax = plt.subplots(2, 3, figsize=(9, 4))\n",
    "\n",
    "ax[0][0].scatter(\n",
    "    x = variables[:,6],\n",
    "    y = variables[:,12], \n",
    "    c = 'red',\n",
    "    marker    = 'o',\n",
    "    edgecolor = 'black', \n",
    ")\n",
    "ax[0][1].set_title('Análisis de los datos')\n",
    "\n",
    "ax[0][1].scatter(\n",
    "    x = variables[:,3],\n",
    "    y = variables[:,7], \n",
    "    c = 'blue',\n",
    "    marker    = 'o',\n",
    "    edgecolor = 'black', \n",
    ")\n",
    "\n",
    "ax[0][2].scatter(\n",
    "    x = variables[:,9],\n",
    "    y = variables[:,12], \n",
    "    c = 'blue',\n",
    "    marker    = 'o',\n",
    "    edgecolor = 'black', \n",
    ")\n",
    "\n",
    "\n",
    "ax[1][0].scatter(\n",
    "    x = variables[:,11],\n",
    "    y = variables[:,4], \n",
    "    c = 'red',\n",
    "    marker    = 'o',\n",
    "    edgecolor = 'black', \n",
    ")\n",
    "\n",
    "ax[1][1].scatter(\n",
    "    x = variables[:,4],\n",
    "    y = variables[:,7], \n",
    "    c = 'blue',\n",
    "    marker    = 'o',\n",
    "    edgecolor = 'black', \n",
    ")\n",
    "\n",
    "ax[1][2].scatter(\n",
    "    x = variables[:,1],\n",
    "    y = variables[:,2], \n",
    "    c = 'blue',\n",
    "    marker    = 'o',\n",
    "    edgecolor = 'black', \n",
    ")"
   ]
  },
  {
   "cell_type": "markdown",
   "id": "0cf6d4fe",
   "metadata": {},
   "source": [
    "### P3. Algoritmo Naive bayes"
   ]
  },
  {
   "cell_type": "markdown",
   "id": "09e2a2ce",
   "metadata": {},
   "source": [
    "<b> Objetivo: </b> Analis de predicción por naive bayes, el cual busca predecir la clasificación del tipo de vino con respecto a sus parametros."
   ]
  },
  {
   "cell_type": "code",
   "execution_count": 5,
   "id": "5b4aeba3",
   "metadata": {},
   "outputs": [
    {
     "data": {
      "text/plain": [
       "((142, 13), (36, 13))"
      ]
     },
     "execution_count": 5,
     "metadata": {},
     "output_type": "execute_result"
    }
   ],
   "source": [
    "### Split de datos en training y testing set.\n",
    "X_train, X_test, y_train, y_test =train_test_split(variables,resultado,test_size=0.20, random_state=5)\n",
    "X_train.shape, X_test.shape"
   ]
  },
  {
   "cell_type": "markdown",
   "id": "b9a857f1",
   "metadata": {},
   "source": [
    "#### 3.1 Entrenamiento del modelo"
   ]
  },
  {
   "cell_type": "code",
   "execution_count": 6,
   "id": "e4cf4f47",
   "metadata": {},
   "outputs": [
    {
     "data": {
      "text/html": [
       "<style>#sk-container-id-1 {color: black;background-color: white;}#sk-container-id-1 pre{padding: 0;}#sk-container-id-1 div.sk-toggleable {background-color: white;}#sk-container-id-1 label.sk-toggleable__label {cursor: pointer;display: block;width: 100%;margin-bottom: 0;padding: 0.3em;box-sizing: border-box;text-align: center;}#sk-container-id-1 label.sk-toggleable__label-arrow:before {content: \"▸\";float: left;margin-right: 0.25em;color: #696969;}#sk-container-id-1 label.sk-toggleable__label-arrow:hover:before {color: black;}#sk-container-id-1 div.sk-estimator:hover label.sk-toggleable__label-arrow:before {color: black;}#sk-container-id-1 div.sk-toggleable__content {max-height: 0;max-width: 0;overflow: hidden;text-align: left;background-color: #f0f8ff;}#sk-container-id-1 div.sk-toggleable__content pre {margin: 0.2em;color: black;border-radius: 0.25em;background-color: #f0f8ff;}#sk-container-id-1 input.sk-toggleable__control:checked~div.sk-toggleable__content {max-height: 200px;max-width: 100%;overflow: auto;}#sk-container-id-1 input.sk-toggleable__control:checked~label.sk-toggleable__label-arrow:before {content: \"▾\";}#sk-container-id-1 div.sk-estimator input.sk-toggleable__control:checked~label.sk-toggleable__label {background-color: #d4ebff;}#sk-container-id-1 div.sk-label input.sk-toggleable__control:checked~label.sk-toggleable__label {background-color: #d4ebff;}#sk-container-id-1 input.sk-hidden--visually {border: 0;clip: rect(1px 1px 1px 1px);clip: rect(1px, 1px, 1px, 1px);height: 1px;margin: -1px;overflow: hidden;padding: 0;position: absolute;width: 1px;}#sk-container-id-1 div.sk-estimator {font-family: monospace;background-color: #f0f8ff;border: 1px dotted black;border-radius: 0.25em;box-sizing: border-box;margin-bottom: 0.5em;}#sk-container-id-1 div.sk-estimator:hover {background-color: #d4ebff;}#sk-container-id-1 div.sk-parallel-item::after {content: \"\";width: 100%;border-bottom: 1px solid gray;flex-grow: 1;}#sk-container-id-1 div.sk-label:hover label.sk-toggleable__label {background-color: #d4ebff;}#sk-container-id-1 div.sk-serial::before {content: \"\";position: absolute;border-left: 1px solid gray;box-sizing: border-box;top: 0;bottom: 0;left: 50%;z-index: 0;}#sk-container-id-1 div.sk-serial {display: flex;flex-direction: column;align-items: center;background-color: white;padding-right: 0.2em;padding-left: 0.2em;position: relative;}#sk-container-id-1 div.sk-item {position: relative;z-index: 1;}#sk-container-id-1 div.sk-parallel {display: flex;align-items: stretch;justify-content: center;background-color: white;position: relative;}#sk-container-id-1 div.sk-item::before, #sk-container-id-1 div.sk-parallel-item::before {content: \"\";position: absolute;border-left: 1px solid gray;box-sizing: border-box;top: 0;bottom: 0;left: 50%;z-index: -1;}#sk-container-id-1 div.sk-parallel-item {display: flex;flex-direction: column;z-index: 1;position: relative;background-color: white;}#sk-container-id-1 div.sk-parallel-item:first-child::after {align-self: flex-end;width: 50%;}#sk-container-id-1 div.sk-parallel-item:last-child::after {align-self: flex-start;width: 50%;}#sk-container-id-1 div.sk-parallel-item:only-child::after {width: 0;}#sk-container-id-1 div.sk-dashed-wrapped {border: 1px dashed gray;margin: 0 0.4em 0.5em 0.4em;box-sizing: border-box;padding-bottom: 0.4em;background-color: white;}#sk-container-id-1 div.sk-label label {font-family: monospace;font-weight: bold;display: inline-block;line-height: 1.2em;}#sk-container-id-1 div.sk-label-container {text-align: center;}#sk-container-id-1 div.sk-container {/* jupyter's `normalize.less` sets `[hidden] { display: none; }` but bootstrap.min.css set `[hidden] { display: none !important; }` so we also need the `!important` here to be able to override the default hidden behavior on the sphinx rendered scikit-learn.org. See: https://github.com/scikit-learn/scikit-learn/issues/21755 */display: inline-block !important;position: relative;}#sk-container-id-1 div.sk-text-repr-fallback {display: none;}</style><div id=\"sk-container-id-1\" class=\"sk-top-container\"><div class=\"sk-text-repr-fallback\"><pre>GaussianNB()</pre><b>In a Jupyter environment, please rerun this cell to show the HTML representation or trust the notebook. <br />On GitHub, the HTML representation is unable to render, please try loading this page with nbviewer.org.</b></div><div class=\"sk-container\" hidden><div class=\"sk-item\"><div class=\"sk-estimator sk-toggleable\"><input class=\"sk-toggleable__control sk-hidden--visually\" id=\"sk-estimator-id-1\" type=\"checkbox\" checked><label for=\"sk-estimator-id-1\" class=\"sk-toggleable__label sk-toggleable__label-arrow\">GaussianNB</label><div class=\"sk-toggleable__content\"><pre>GaussianNB()</pre></div></div></div></div></div>"
      ],
      "text/plain": [
       "GaussianNB()"
      ]
     },
     "execution_count": 6,
     "metadata": {},
     "output_type": "execute_result"
    }
   ],
   "source": [
    "# train a Gaussian Naive Bayes classifier on the training set\n",
    "from sklearn.naive_bayes import GaussianNB\n",
    "# instantiate the model\n",
    "gnb = GaussianNB()\n",
    "# fit the model\n",
    "gnb.fit(X_train, y_train)\n"
   ]
  },
  {
   "cell_type": "markdown",
   "id": "3596d0ad",
   "metadata": {},
   "source": [
    "#### 3.2 Predicción del modelo"
   ]
  },
  {
   "cell_type": "code",
   "execution_count": 7,
   "id": "65a3e5f5",
   "metadata": {},
   "outputs": [
    {
     "data": {
      "text/plain": [
       "array([1, 2, 1, 1, 3, 3, 1, 1, 2, 2, 1, 1, 3, 2, 3, 1, 2, 2, 2, 2, 1, 1,\n",
       "       2, 2, 2, 2, 1, 3, 3, 1, 2, 2, 1, 1, 3, 3], dtype=int64)"
      ]
     },
     "execution_count": 7,
     "metadata": {},
     "output_type": "execute_result"
    }
   ],
   "source": [
    "# Predicción de resultados\n",
    "y_pred = gnb.predict(X_test)\n",
    "y_pred"
   ]
  },
  {
   "cell_type": "markdown",
   "id": "f2d71e9a",
   "metadata": {},
   "source": [
    "#### 3.3 Precisión de Resultados del Modelo"
   ]
  },
  {
   "cell_type": "code",
   "execution_count": 8,
   "id": "ac80c6e6",
   "metadata": {},
   "outputs": [
    {
     "name": "stdout",
     "output_type": "stream",
     "text": [
      "Model accuracy score: 0.9167\n"
     ]
    }
   ],
   "source": [
    "# Medición del accuracy del modelo\n",
    "from sklearn.metrics import accuracy_score\n",
    "print('Model accuracy score: {0:0.4f}'. format(accuracy_score(y_test, y_pred)))"
   ]
  },
  {
   "cell_type": "code",
   "execution_count": 9,
   "id": "e0ac7bd0",
   "metadata": {},
   "outputs": [
    {
     "name": "stdout",
     "output_type": "stream",
     "text": [
      "Training-set accuracy score: 0.9930\n",
      "Training set score: 0.9930\n",
      "Test set score: 0.9167\n"
     ]
    }
   ],
   "source": [
    "y_pred_train = gnb.predict(X_train)\n",
    "print('Training-set accuracy score: {0:0.4f}'. format(accuracy_score(y_train, y_pred_train)))\n",
    "\n",
    "# print the scores on training and test set\n",
    "print('Training set score: {:.4f}'.format(gnb.score(X_train, y_train)))\n",
    "print('Test set score: {:.4f}'.format(gnb.score(X_test, y_test)))\n"
   ]
  },
  {
   "cell_type": "markdown",
   "id": "096bf838",
   "metadata": {},
   "source": [
    "### 4 Matriz de Confusión"
   ]
  },
  {
   "cell_type": "code",
   "execution_count": 10,
   "id": "5c5f7591",
   "metadata": {},
   "outputs": [
    {
     "name": "stdout",
     "output_type": "stream",
     "text": [
      "Confusion matrix\n",
      "\n",
      " [[14  3  0]\n",
      " [ 0 11  0]\n",
      " [ 0  0  8]]\n",
      "\n",
      "True Positives(TP) =  14\n",
      "\n",
      "True Negatives(TN) =  11\n",
      "\n",
      "False Positives(FP) =  3\n",
      "\n",
      "False Negatives(FN) =  0\n"
     ]
    }
   ],
   "source": [
    "# Print the Confusion Matrix and slice it into four pieces\n",
    "\n",
    "from sklearn.metrics import confusion_matrix\n",
    "cm = confusion_matrix(y_test, y_pred)\n",
    "print('Confusion matrix\\n\\n', cm)\n",
    "print('\\nTrue Positives(TP) = ', cm[0,0])\n",
    "print('\\nTrue Negatives(TN) = ', cm[1,1])\n",
    "print('\\nFalse Positives(FP) = ', cm[0,1])\n",
    "print('\\nFalse Negatives(FN) = ', cm[1,0])"
   ]
  },
  {
   "cell_type": "code",
   "execution_count": 11,
   "id": "f2ec0249",
   "metadata": {},
   "outputs": [
    {
     "data": {
      "text/plain": [
       "<AxesSubplot:>"
      ]
     },
     "execution_count": 11,
     "metadata": {},
     "output_type": "execute_result"
    },
    {
     "data": {
      "image/png": "[encoded data removed]",
      "text/plain": [
       "<Figure size 640x480 with 2 Axes>"
      ]
     },
     "metadata": {},
     "output_type": "display_data"
    }
   ],
   "source": [
    "# Vsializar la confusion matrix con seaborn heatmap\n",
    "import seaborn as sns\n",
    "\n",
    "cm_matrix = pd.DataFrame(data=cm, columns=['Actual Positive:1', 'Actual Negative:0', 'Actual Negative:0'], \n",
    "                                 index=['Predict Positive:1', 'Predict Negative:0', 'Predict Negative:0'])\n",
    "\n",
    "sns.heatmap(cm_matrix, annot=True, fmt='d', cmap='YlGnBu')"
   ]
  },
  {
   "cell_type": "markdown",
   "id": "f7886aa0",
   "metadata": {},
   "source": [
    "## 5. Predicción del modelo\n"
   ]
  },
  {
   "cell_type": "markdown",
   "id": "5d99ae45",
   "metadata": {},
   "source": [
    "<b> Objetivo: </b> Se Generan 4 valores de prueba para utilizar el modelo entrenado, a cada valor le llamamos vector."
   ]
  },
  {
   "cell_type": "code",
   "execution_count": 12,
   "id": "e7f043c5",
   "metadata": {},
   "outputs": [],
   "source": [
    "\n",
    "## Valores de prueba\n",
    "Vector2= [[13.16,2.36,2.67,18.6,101,2.80,3.24,0.30,2.81,5.68,1.03,3.17,1185]] #Clasif 1\n",
    "Vector3=[[13.24,2.59,2.87,21.0,118,2.80,2.69,0.39,1.82,4.32,1.04,2.93,735]] # Clasif 1\n",
    "Vector4 =[[13.27,4.28,2.26,20.0,120,1.59,0.69,0.43,1.35,10.20,0.59,1.56,835]] # Clasif = 3 \n",
    "Vector = [[9.23,2.71,2.43,15.6,127,2.80,3.70,0.28,2.29,5,1.04,3.92,1165]] #Clasif aleatoria"
   ]
  },
  {
   "cell_type": "markdown",
   "id": "902d5ee3",
   "metadata": {},
   "source": [
    "<b> Ejecución del modelo </b> Muestra el resultado de la predicción del modelo"
   ]
  },
  {
   "cell_type": "code",
   "execution_count": 13,
   "id": "1626ab8e",
   "metadata": {},
   "outputs": [
    {
     "name": "stdout",
     "output_type": "stream",
     "text": [
      "La categoria del vino es : [2]\n"
     ]
    }
   ],
   "source": [
    "Clasificación = gnb.predict(Vector)\n",
    "print(\"La categoria del vino es :\",Clasificación)"
   ]
  },
  {
   "cell_type": "markdown",
   "id": "d7f1914d",
   "metadata": {},
   "source": [
    "## Ejecución de Analisis de componentes principales"
   ]
  },
  {
   "cell_type": "markdown",
   "id": "7ac0fdeb",
   "metadata": {},
   "source": [
    "<p> Aunque la predicción ha sido satisfactoria, se propone realizar un modelo de analisis de componentes principales con el \n",
    "objetivo de conocer si el numero de variables es la adecuada o se puede disminuir el numero de varibles. \n",
    "</p>"
   ]
  },
  {
   "cell_type": "code",
   "execution_count": 14,
   "id": "01a07882",
   "metadata": {},
   "outputs": [],
   "source": [
    "# Tratamiento de datos\n",
    "# ==============================================================================\n",
    "import numpy as np\n",
    "import pandas as pd\n",
    "import statsmodels.api as sm\n",
    "\n",
    "# Gráficos\n",
    "# ==============================================================================\n",
    "import matplotlib.pyplot as plt\n",
    "import matplotlib.font_manager\n",
    "from matplotlib import style\n",
    "style.use('ggplot') or plt.style.use('ggplot')\n",
    "\n",
    "# Preprocesado y modelado\n",
    "# ==============================================================================\n",
    "from sklearn.decomposition import PCA\n",
    "from sklearn.pipeline import make_pipeline\n",
    "from sklearn.preprocessing import StandardScaler\n",
    "from sklearn.preprocessing import scale\n",
    "\n",
    "# Configuración warnings\n",
    "# ==============================================================================\n",
    "import warnings\n",
    "warnings.filterwarnings('ignore')"
   ]
  },
  {
   "cell_type": "code",
   "execution_count": 15,
   "id": "a91303b7",
   "metadata": {},
   "outputs": [],
   "source": [
    "# Se renombran el dataset\n",
    "dataFrame = dataset.iloc[:,1:]"
   ]
  },
  {
   "cell_type": "markdown",
   "id": "c2c76a6e",
   "metadata": {},
   "source": [
    "## Modelo PCA"
   ]
  },
  {
   "cell_type": "code",
   "execution_count": 16,
   "id": "1cbc0fc0",
   "metadata": {},
   "outputs": [],
   "source": [
    "# Entrenamiento modelo PCA con escalado de los datos\n",
    "# ==============================================================================\n",
    "pca_pipe = make_pipeline(StandardScaler(), PCA())\n",
    "pca_pipe.fit(dataFrame)\n",
    "\n",
    "# Se extrae el modelo entrenado del pipeline\n",
    "modelo_pca = pca_pipe.named_steps['pca']"
   ]
  },
  {
   "cell_type": "code",
   "execution_count": 17,
   "id": "0f27937d",
   "metadata": {},
   "outputs": [
    {
     "data": {
      "text/html": [
       "<div>\n",
       "<style scoped>\n",
       "    .dataframe tbody tr th:only-of-type {\n",
       "        vertical-align: middle;\n",
       "    }\n",
       "\n",
       "    .dataframe tbody tr th {\n",
       "        vertical-align: top;\n",
       "    }\n",
       "\n",
       "    .dataframe thead th {\n",
       "        text-align: right;\n",
       "    }\n",
       "</style>\n",
       "<table border=\"1\" class=\"dataframe\">\n",
       "  <thead>\n",
       "    <tr style=\"text-align: right;\">\n",
       "      <th></th>\n",
       "      <th>Alcohol</th>\n",
       "      <th>Malic acid</th>\n",
       "      <th>Ash</th>\n",
       "      <th>Alcalinity of ash</th>\n",
       "      <th>Magnesium</th>\n",
       "      <th>Total phenols</th>\n",
       "      <th>Flavanoids</th>\n",
       "      <th>Nonflavanoid phenols</th>\n",
       "      <th>Proanthocyanins</th>\n",
       "      <th>Color intensity</th>\n",
       "      <th>Hue</th>\n",
       "      <th>OD280/OD315 of diluted wines</th>\n",
       "      <th>Proline</th>\n",
       "    </tr>\n",
       "  </thead>\n",
       "  <tbody>\n",
       "    <tr>\n",
       "      <th>PC1</th>\n",
       "      <td>0.144329</td>\n",
       "      <td>-0.245188</td>\n",
       "      <td>-0.002051</td>\n",
       "      <td>-0.239320</td>\n",
       "      <td>0.141992</td>\n",
       "      <td>0.394661</td>\n",
       "      <td>0.422934</td>\n",
       "      <td>-0.298533</td>\n",
       "      <td>0.313429</td>\n",
       "      <td>-0.088617</td>\n",
       "      <td>0.296715</td>\n",
       "      <td>0.376167</td>\n",
       "      <td>0.286752</td>\n",
       "    </tr>\n",
       "    <tr>\n",
       "      <th>PC2</th>\n",
       "      <td>-0.483652</td>\n",
       "      <td>-0.224931</td>\n",
       "      <td>-0.316069</td>\n",
       "      <td>0.010591</td>\n",
       "      <td>-0.299634</td>\n",
       "      <td>-0.065040</td>\n",
       "      <td>0.003360</td>\n",
       "      <td>-0.028779</td>\n",
       "      <td>-0.039302</td>\n",
       "      <td>-0.529996</td>\n",
       "      <td>0.279235</td>\n",
       "      <td>0.164496</td>\n",
       "      <td>-0.364903</td>\n",
       "    </tr>\n",
       "    <tr>\n",
       "      <th>PC3</th>\n",
       "      <td>-0.207383</td>\n",
       "      <td>0.089013</td>\n",
       "      <td>0.626224</td>\n",
       "      <td>0.612080</td>\n",
       "      <td>0.130757</td>\n",
       "      <td>0.146179</td>\n",
       "      <td>0.150682</td>\n",
       "      <td>0.170368</td>\n",
       "      <td>0.149454</td>\n",
       "      <td>-0.137306</td>\n",
       "      <td>0.085222</td>\n",
       "      <td>0.166005</td>\n",
       "      <td>-0.126746</td>\n",
       "    </tr>\n",
       "    <tr>\n",
       "      <th>PC4</th>\n",
       "      <td>-0.017856</td>\n",
       "      <td>0.536890</td>\n",
       "      <td>-0.214176</td>\n",
       "      <td>0.060859</td>\n",
       "      <td>-0.351797</td>\n",
       "      <td>0.198068</td>\n",
       "      <td>0.152295</td>\n",
       "      <td>-0.203301</td>\n",
       "      <td>0.399057</td>\n",
       "      <td>0.065926</td>\n",
       "      <td>-0.427771</td>\n",
       "      <td>0.184121</td>\n",
       "      <td>-0.232071</td>\n",
       "    </tr>\n",
       "    <tr>\n",
       "      <th>PC5</th>\n",
       "      <td>-0.265664</td>\n",
       "      <td>0.035214</td>\n",
       "      <td>-0.143025</td>\n",
       "      <td>0.066103</td>\n",
       "      <td>0.727049</td>\n",
       "      <td>-0.149318</td>\n",
       "      <td>-0.109026</td>\n",
       "      <td>-0.500703</td>\n",
       "      <td>0.136860</td>\n",
       "      <td>-0.076437</td>\n",
       "      <td>-0.173615</td>\n",
       "      <td>-0.101161</td>\n",
       "      <td>-0.157869</td>\n",
       "    </tr>\n",
       "    <tr>\n",
       "      <th>PC6</th>\n",
       "      <td>-0.213539</td>\n",
       "      <td>-0.536814</td>\n",
       "      <td>-0.154475</td>\n",
       "      <td>0.100825</td>\n",
       "      <td>-0.038144</td>\n",
       "      <td>0.084122</td>\n",
       "      <td>0.018920</td>\n",
       "      <td>0.258594</td>\n",
       "      <td>0.533795</td>\n",
       "      <td>0.418644</td>\n",
       "      <td>-0.105983</td>\n",
       "      <td>-0.265851</td>\n",
       "      <td>-0.119726</td>\n",
       "    </tr>\n",
       "    <tr>\n",
       "      <th>PC7</th>\n",
       "      <td>-0.056396</td>\n",
       "      <td>0.420524</td>\n",
       "      <td>-0.149171</td>\n",
       "      <td>-0.286969</td>\n",
       "      <td>0.322883</td>\n",
       "      <td>-0.027925</td>\n",
       "      <td>-0.060685</td>\n",
       "      <td>0.595447</td>\n",
       "      <td>0.372139</td>\n",
       "      <td>-0.227712</td>\n",
       "      <td>0.232076</td>\n",
       "      <td>-0.044764</td>\n",
       "      <td>0.076805</td>\n",
       "    </tr>\n",
       "    <tr>\n",
       "      <th>PC8</th>\n",
       "      <td>-0.396139</td>\n",
       "      <td>-0.065827</td>\n",
       "      <td>0.170260</td>\n",
       "      <td>-0.427970</td>\n",
       "      <td>0.156361</td>\n",
       "      <td>0.405934</td>\n",
       "      <td>0.187245</td>\n",
       "      <td>0.233285</td>\n",
       "      <td>-0.368227</td>\n",
       "      <td>0.033797</td>\n",
       "      <td>-0.436624</td>\n",
       "      <td>0.078108</td>\n",
       "      <td>-0.120023</td>\n",
       "    </tr>\n",
       "    <tr>\n",
       "      <th>PC9</th>\n",
       "      <td>0.508619</td>\n",
       "      <td>-0.075283</td>\n",
       "      <td>-0.307694</td>\n",
       "      <td>0.200449</td>\n",
       "      <td>0.271403</td>\n",
       "      <td>0.286035</td>\n",
       "      <td>0.049578</td>\n",
       "      <td>0.195501</td>\n",
       "      <td>-0.209145</td>\n",
       "      <td>0.056218</td>\n",
       "      <td>0.085828</td>\n",
       "      <td>0.137227</td>\n",
       "      <td>-0.575786</td>\n",
       "    </tr>\n",
       "    <tr>\n",
       "      <th>PC10</th>\n",
       "      <td>0.211605</td>\n",
       "      <td>-0.309080</td>\n",
       "      <td>-0.027125</td>\n",
       "      <td>0.052799</td>\n",
       "      <td>0.067870</td>\n",
       "      <td>-0.320131</td>\n",
       "      <td>-0.163151</td>\n",
       "      <td>0.215535</td>\n",
       "      <td>0.134184</td>\n",
       "      <td>-0.290775</td>\n",
       "      <td>-0.522399</td>\n",
       "      <td>0.523706</td>\n",
       "      <td>0.162116</td>\n",
       "    </tr>\n",
       "    <tr>\n",
       "      <th>PC11</th>\n",
       "      <td>-0.225917</td>\n",
       "      <td>0.076486</td>\n",
       "      <td>-0.498691</td>\n",
       "      <td>0.479314</td>\n",
       "      <td>0.071289</td>\n",
       "      <td>0.304341</td>\n",
       "      <td>-0.025694</td>\n",
       "      <td>0.116896</td>\n",
       "      <td>-0.237363</td>\n",
       "      <td>0.031839</td>\n",
       "      <td>-0.048212</td>\n",
       "      <td>0.046423</td>\n",
       "      <td>0.539270</td>\n",
       "    </tr>\n",
       "    <tr>\n",
       "      <th>PC12</th>\n",
       "      <td>-0.266286</td>\n",
       "      <td>0.121696</td>\n",
       "      <td>-0.049622</td>\n",
       "      <td>-0.055743</td>\n",
       "      <td>0.062220</td>\n",
       "      <td>-0.303882</td>\n",
       "      <td>-0.042899</td>\n",
       "      <td>0.042352</td>\n",
       "      <td>-0.095553</td>\n",
       "      <td>0.604222</td>\n",
       "      <td>0.259214</td>\n",
       "      <td>0.600959</td>\n",
       "      <td>-0.079402</td>\n",
       "    </tr>\n",
       "    <tr>\n",
       "      <th>PC13</th>\n",
       "      <td>0.014970</td>\n",
       "      <td>0.025964</td>\n",
       "      <td>-0.141218</td>\n",
       "      <td>0.091683</td>\n",
       "      <td>0.056774</td>\n",
       "      <td>-0.463908</td>\n",
       "      <td>0.832257</td>\n",
       "      <td>0.114040</td>\n",
       "      <td>-0.116917</td>\n",
       "      <td>-0.011993</td>\n",
       "      <td>-0.089889</td>\n",
       "      <td>-0.156718</td>\n",
       "      <td>0.014447</td>\n",
       "    </tr>\n",
       "  </tbody>\n",
       "</table>\n",
       "</div>"
      ],
      "text/plain": [
       "       Alcohol  Malic acid       Ash  Alcalinity of ash  Magnesium  \\\n",
       "PC1   0.144329   -0.245188 -0.002051          -0.239320   0.141992   \n",
       "PC2  -0.483652   -0.224931 -0.316069           0.010591  -0.299634   \n",
       "PC3  -0.207383    0.089013  0.626224           0.612080   0.130757   \n",
       "PC4  -0.017856    0.536890 -0.214176           0.060859  -0.351797   \n",
       "PC5  -0.265664    0.035214 -0.143025           0.066103   0.727049   \n",
       "PC6  -0.213539   -0.536814 -0.154475           0.100825  -0.038144   \n",
       "PC7  -0.056396    0.420524 -0.149171          -0.286969   0.322883   \n",
       "PC8  -0.396139   -0.065827  0.170260          -0.427970   0.156361   \n",
       "PC9   0.508619   -0.075283 -0.307694           0.200449   0.271403   \n",
       "PC10  0.211605   -0.309080 -0.027125           0.052799   0.067870   \n",
       "PC11 -0.225917    0.076486 -0.498691           0.479314   0.071289   \n",
       "PC12 -0.266286    0.121696 -0.049622          -0.055743   0.062220   \n",
       "PC13  0.014970    0.025964 -0.141218           0.091683   0.056774   \n",
       "\n",
       "      Total phenols  Flavanoids  Nonflavanoid phenols  Proanthocyanins  \\\n",
       "PC1        0.394661    0.422934             -0.298533         0.313429   \n",
       "PC2       -0.065040    0.003360             -0.028779        -0.039302   \n",
       "PC3        0.146179    0.150682              0.170368         0.149454   \n",
       "PC4        0.198068    0.152295             -0.203301         0.399057   \n",
       "PC5       -0.149318   -0.109026             -0.500703         0.136860   \n",
       "PC6        0.084122    0.018920              0.258594         0.533795   \n",
       "PC7       -0.027925   -0.060685              0.595447         0.372139   \n",
       "PC8        0.405934    0.187245              0.233285        -0.368227   \n",
       "PC9        0.286035    0.049578              0.195501        -0.209145   \n",
       "PC10      -0.320131   -0.163151              0.215535         0.134184   \n",
       "PC11       0.304341   -0.025694              0.116896        -0.237363   \n",
       "PC12      -0.303882   -0.042899              0.042352        -0.095553   \n",
       "PC13      -0.463908    0.832257              0.114040        -0.116917   \n",
       "\n",
       "      Color intensity       Hue  OD280/OD315 of diluted wines   Proline  \n",
       "PC1         -0.088617  0.296715                      0.376167  0.286752  \n",
       "PC2         -0.529996  0.279235                      0.164496 -0.364903  \n",
       "PC3         -0.137306  0.085222                      0.166005 -0.126746  \n",
       "PC4          0.065926 -0.427771                      0.184121 -0.232071  \n",
       "PC5         -0.076437 -0.173615                     -0.101161 -0.157869  \n",
       "PC6          0.418644 -0.105983                     -0.265851 -0.119726  \n",
       "PC7         -0.227712  0.232076                     -0.044764  0.076805  \n",
       "PC8          0.033797 -0.436624                      0.078108 -0.120023  \n",
       "PC9          0.056218  0.085828                      0.137227 -0.575786  \n",
       "PC10        -0.290775 -0.522399                      0.523706  0.162116  \n",
       "PC11         0.031839 -0.048212                      0.046423  0.539270  \n",
       "PC12         0.604222  0.259214                      0.600959 -0.079402  \n",
       "PC13        -0.011993 -0.089889                     -0.156718  0.014447  "
      ]
     },
     "execution_count": 17,
     "metadata": {},
     "output_type": "execute_result"
    }
   ],
   "source": [
    "# Se combierte el array a dataframe para añadir nombres a los ejes.\n",
    "pd.DataFrame(\n",
    "    data    = modelo_pca.components_,\n",
    "    columns = dataFrame.columns,\n",
    "    index   = ['PC1', 'PC2', 'PC3', 'PC4'\n",
    "              ,'PC5'\n",
    "              ,'PC6'\n",
    "              ,'PC7'\n",
    "              ,'PC8'\n",
    "              ,'PC9'\n",
    "              ,'PC10'\n",
    "              ,'PC11'\n",
    "              ,'PC12'\n",
    "              ,'PC13'\n",
    "              ]\n",
    ")"
   ]
  },
  {
   "cell_type": "code",
   "execution_count": 18,
   "id": "13280210",
   "metadata": {},
   "outputs": [
    {
     "data": {
      "text/plain": [
       "<matplotlib.colorbar.Colorbar at 0x156c9358fd0>"
      ]
     },
     "execution_count": 18,
     "metadata": {},
     "output_type": "execute_result"
    },
    {
     "data": {
      "image/png": "[encoded data removed]",
      "text/plain": [
       "<Figure size 800x400 with 2 Axes>"
      ]
     },
     "metadata": {},
     "output_type": "display_data"
    }
   ],
   "source": [
    "# Heatmap componentes\n",
    "# ==============================================================================\n",
    "fig, ax = plt.subplots(nrows=1, ncols=1, figsize=(8, 4))\n",
    "componentes = modelo_pca.components_\n",
    "plt.imshow(componentes.T, cmap='viridis', aspect='auto')\n",
    "plt.yticks(range(len(dataFrame.columns)), dataFrame.columns)\n",
    "plt.xticks(range(len(dataFrame.columns)), np.arange(modelo_pca.n_components_) + 1)\n",
    "plt.grid(False)\n",
    "plt.colorbar()\n"
   ]
  },
  {
   "cell_type": "code",
   "execution_count": 19,
   "id": "423845ac",
   "metadata": {},
   "outputs": [
    {
     "name": "stdout",
     "output_type": "stream",
     "text": [
      "----------------------------------------------------\n",
      "Porcentaje de varianza explicada por cada componente\n",
      "----------------------------------------------------\n",
      "[0.36198848 0.1920749  0.11123631 0.0706903  0.06563294 0.04935823\n",
      " 0.04238679 0.02680749 0.02222153 0.01930019 0.01736836 0.01298233\n",
      " 0.00795215]\n"
     ]
    },
    {
     "data": {
      "image/png": "[encoded data removed]",
      "text/plain": [
       "<Figure size 600x400 with 1 Axes>"
      ]
     },
     "metadata": {},
     "output_type": "display_data"
    }
   ],
   "source": [
    "# Porcentaje de varianza explicada por cada componente\n",
    "# ==============================================================================\n",
    "print('----------------------------------------------------')\n",
    "print('Porcentaje de varianza explicada por cada componente')\n",
    "print('----------------------------------------------------')\n",
    "print(modelo_pca.explained_variance_ratio_)\n",
    "\n",
    "fig, ax = plt.subplots(nrows=1, ncols=1, figsize=(6, 4))\n",
    "ax.bar(\n",
    "    x      = np.arange(modelo_pca.n_components_) + 1,\n",
    "    height = modelo_pca.explained_variance_ratio_\n",
    ")\n",
    "\n",
    "for x, y in zip(np.arange(len(dataFrame.columns)) + 1, modelo_pca.explained_variance_ratio_):\n",
    "    label = round(y, 2)\n",
    "    ax.annotate(\n",
    "        label,\n",
    "        (x,y),\n",
    "        textcoords=\"offset points\",\n",
    "        xytext=(0,10),\n",
    "        ha='center'\n",
    "    )\n",
    "\n",
    "ax.set_xticks(np.arange(modelo_pca.n_components_) + 1)\n",
    "ax.set_ylim(0, 1.1)\n",
    "ax.set_title('Porcentaje de varianza explicada por cada componente')\n",
    "ax.set_xlabel('Componente principal')\n",
    "ax.set_ylabel('Por. varianza explicada');"
   ]
  },
  {
   "cell_type": "code",
   "execution_count": 20,
   "id": "4c38978e",
   "metadata": {},
   "outputs": [
    {
     "name": "stdout",
     "output_type": "stream",
     "text": [
      "------------------------------------------\n",
      "Porcentaje de varianza explicada acumulada\n",
      "------------------------------------------\n",
      "[0.36198848 0.55406338 0.66529969 0.73598999 0.80162293 0.85098116\n",
      " 0.89336795 0.92017544 0.94239698 0.96169717 0.97906553 0.99204785\n",
      " 1.        ]\n"
     ]
    },
    {
     "data": {
      "image/png": "[encoded data removed]",
      "text/plain": [
       "<Figure size 600x400 with 1 Axes>"
      ]
     },
     "metadata": {},
     "output_type": "display_data"
    }
   ],
   "source": [
    "# Porcentaje de varianza explicada acumulada\n",
    "# ==============================================================================\n",
    "prop_varianza_acum = modelo_pca.explained_variance_ratio_.cumsum()\n",
    "print('------------------------------------------')\n",
    "print('Porcentaje de varianza explicada acumulada')\n",
    "print('------------------------------------------')\n",
    "print(prop_varianza_acum)\n",
    "\n",
    "fig, ax = plt.subplots(nrows=1, ncols=1, figsize=(6, 4))\n",
    "ax.plot(\n",
    "    np.arange(len(dataFrame.columns)) + 1,\n",
    "    prop_varianza_acum,\n",
    "    marker = 'o'\n",
    ")\n",
    "\n",
    "for x, y in zip(np.arange(len(dataFrame.columns)) + 1, prop_varianza_acum):\n",
    "    label = round(y, 2)\n",
    "    ax.annotate(\n",
    "        label,\n",
    "        (x,y),\n",
    "        textcoords=\"offset points\",\n",
    "        xytext=(0,10),\n",
    "        ha='center'\n",
    "    )\n",
    "    \n",
    "ax.set_ylim(0, 1.1)\n",
    "ax.set_xticks(np.arange(modelo_pca.n_components_) + 1)\n",
    "ax.set_title('Porcentaje de varianza explicada acumulada')\n",
    "ax.set_xlabel('Componente principal')\n",
    "ax.set_ylabel('Por. varianza acumulada');"
   ]
  },
  {
   "cell_type": "markdown",
   "id": "ef60172a",
   "metadata": {},
   "source": [
    "## Transformación\n"
   ]
  },
  {
   "cell_type": "code",
   "execution_count": 21,
   "id": "fc6a7fb4",
   "metadata": {},
   "outputs": [
    {
     "data": {
      "text/html": [
       "<div>\n",
       "<style scoped>\n",
       "    .dataframe tbody tr th:only-of-type {\n",
       "        vertical-align: middle;\n",
       "    }\n",
       "\n",
       "    .dataframe tbody tr th {\n",
       "        vertical-align: top;\n",
       "    }\n",
       "\n",
       "    .dataframe thead th {\n",
       "        text-align: right;\n",
       "    }\n",
       "</style>\n",
       "<table border=\"1\" class=\"dataframe\">\n",
       "  <thead>\n",
       "    <tr style=\"text-align: right;\">\n",
       "      <th></th>\n",
       "      <th>PC1</th>\n",
       "      <th>PC2</th>\n",
       "      <th>PC3</th>\n",
       "      <th>PC4</th>\n",
       "      <th>PC5</th>\n",
       "      <th>PC6</th>\n",
       "      <th>PC7</th>\n",
       "      <th>PC8</th>\n",
       "      <th>PC9</th>\n",
       "      <th>PC10</th>\n",
       "      <th>PC11</th>\n",
       "      <th>PC12</th>\n",
       "      <th>PC13</th>\n",
       "    </tr>\n",
       "  </thead>\n",
       "  <tbody>\n",
       "    <tr>\n",
       "      <th>0</th>\n",
       "      <td>3.316751</td>\n",
       "      <td>-1.443463</td>\n",
       "      <td>-0.165739</td>\n",
       "      <td>-0.215631</td>\n",
       "      <td>0.693043</td>\n",
       "      <td>-0.223880</td>\n",
       "      <td>0.596427</td>\n",
       "      <td>0.065139</td>\n",
       "      <td>0.641443</td>\n",
       "      <td>1.020956</td>\n",
       "      <td>-0.451563</td>\n",
       "      <td>0.540810</td>\n",
       "      <td>-0.066239</td>\n",
       "    </tr>\n",
       "    <tr>\n",
       "      <th>1</th>\n",
       "      <td>2.209465</td>\n",
       "      <td>0.333393</td>\n",
       "      <td>-2.026457</td>\n",
       "      <td>-0.291358</td>\n",
       "      <td>-0.257655</td>\n",
       "      <td>-0.927120</td>\n",
       "      <td>0.053776</td>\n",
       "      <td>1.024416</td>\n",
       "      <td>-0.308847</td>\n",
       "      <td>0.159701</td>\n",
       "      <td>-0.142657</td>\n",
       "      <td>0.388238</td>\n",
       "      <td>0.003637</td>\n",
       "    </tr>\n",
       "    <tr>\n",
       "      <th>2</th>\n",
       "      <td>2.516740</td>\n",
       "      <td>-1.031151</td>\n",
       "      <td>0.982819</td>\n",
       "      <td>0.724902</td>\n",
       "      <td>-0.251033</td>\n",
       "      <td>0.549276</td>\n",
       "      <td>0.424205</td>\n",
       "      <td>-0.344216</td>\n",
       "      <td>-1.177834</td>\n",
       "      <td>0.113361</td>\n",
       "      <td>-0.286673</td>\n",
       "      <td>0.000584</td>\n",
       "      <td>0.021717</td>\n",
       "    </tr>\n",
       "    <tr>\n",
       "      <th>3</th>\n",
       "      <td>3.757066</td>\n",
       "      <td>-2.756372</td>\n",
       "      <td>-0.176192</td>\n",
       "      <td>0.567983</td>\n",
       "      <td>-0.311842</td>\n",
       "      <td>0.114431</td>\n",
       "      <td>-0.383337</td>\n",
       "      <td>0.643593</td>\n",
       "      <td>0.052544</td>\n",
       "      <td>0.239413</td>\n",
       "      <td>0.759584</td>\n",
       "      <td>-0.242020</td>\n",
       "      <td>-0.369484</td>\n",
       "    </tr>\n",
       "    <tr>\n",
       "      <th>4</th>\n",
       "      <td>1.008908</td>\n",
       "      <td>-0.869831</td>\n",
       "      <td>2.026688</td>\n",
       "      <td>-0.409766</td>\n",
       "      <td>0.298458</td>\n",
       "      <td>-0.406520</td>\n",
       "      <td>0.444074</td>\n",
       "      <td>0.416700</td>\n",
       "      <td>0.326819</td>\n",
       "      <td>-0.078366</td>\n",
       "      <td>-0.525945</td>\n",
       "      <td>-0.216664</td>\n",
       "      <td>-0.079364</td>\n",
       "    </tr>\n",
       "  </tbody>\n",
       "</table>\n",
       "</div>"
      ],
      "text/plain": [
       "        PC1       PC2       PC3       PC4       PC5       PC6       PC7  \\\n",
       "0  3.316751 -1.443463 -0.165739 -0.215631  0.693043 -0.223880  0.596427   \n",
       "1  2.209465  0.333393 -2.026457 -0.291358 -0.257655 -0.927120  0.053776   \n",
       "2  2.516740 -1.031151  0.982819  0.724902 -0.251033  0.549276  0.424205   \n",
       "3  3.757066 -2.756372 -0.176192  0.567983 -0.311842  0.114431 -0.383337   \n",
       "4  1.008908 -0.869831  2.026688 -0.409766  0.298458 -0.406520  0.444074   \n",
       "\n",
       "        PC8       PC9      PC10      PC11      PC12      PC13  \n",
       "0  0.065139  0.641443  1.020956 -0.451563  0.540810 -0.066239  \n",
       "1  1.024416 -0.308847  0.159701 -0.142657  0.388238  0.003637  \n",
       "2 -0.344216 -1.177834  0.113361 -0.286673  0.000584  0.021717  \n",
       "3  0.643593  0.052544  0.239413  0.759584 -0.242020 -0.369484  \n",
       "4  0.416700  0.326819 -0.078366 -0.525945 -0.216664 -0.079364  "
      ]
     },
     "execution_count": 21,
     "metadata": {},
     "output_type": "execute_result"
    }
   ],
   "source": [
    "# Proyección de las observaciones de entrenamiento\n",
    "# ==============================================================================\n",
    "proyecciones = pca_pipe.transform(X=dataFrame)\n",
    "proyecciones = pd.DataFrame(\n",
    "    proyecciones,\n",
    "    columns = ['PC1', 'PC2', 'PC3', 'PC4'\n",
    "              ,'PC5'\n",
    "              ,'PC6'\n",
    "              ,'PC7'\n",
    "              ,'PC8'\n",
    "              ,'PC9'\n",
    "              ,'PC10'\n",
    "              ,'PC11'\n",
    "              ,'PC12'\n",
    "              ,'PC13'\n",
    "              ],\n",
    "    index   = dataFrame.index\n",
    ")\n",
    "\n",
    "\n",
    "\n",
    "proyecciones.head()"
   ]
  },
  {
   "cell_type": "markdown",
   "id": "5416c278",
   "metadata": {},
   "source": [
    "## Aproximación a una regresión lineal"
   ]
  },
  {
   "cell_type": "code",
   "execution_count": 22,
   "id": "0045cae8",
   "metadata": {},
   "outputs": [],
   "source": [
    "# Preprocesado y modelado\n",
    "# ==============================================================================\n",
    "from sklearn.model_selection import KFold\n",
    "from sklearn.model_selection import GridSearchCV\n",
    "from sklearn.linear_model import LinearRegression\n",
    "from sklearn.model_selection import train_test_split\n",
    "from sklearn.metrics import mean_squared_error"
   ]
  },
  {
   "cell_type": "code",
   "execution_count": 23,
   "id": "e85913a2",
   "metadata": {},
   "outputs": [
    {
     "name": "stdout",
     "output_type": "stream",
     "text": [
      "\n",
      "El error (rmse) de test es: 0.28237876722279287\n"
     ]
    }
   ],
   "source": [
    "# preprocesamiento de las variables dependientes e independientes\n",
    "\n",
    "X = variables\n",
    "y = resultado\n",
    "\n",
    "X_train, X_test, y_train, y_test = train_test_split(\n",
    "                                        X,\n",
    "                                        y.reshape(-1,1),\n",
    "                                        train_size   = 0.7,\n",
    "                                        random_state = 1234,\n",
    "                                        shuffle      = True)\n",
    "\n",
    "# Creación y entrenamiento del modelo\n",
    "# ==============================================================================\n",
    "modelo = LinearRegression(normalize=True)\n",
    "modelo.fit(X = X_train, y = y_train)\n",
    "\n",
    "\n",
    "# Predicciones test\n",
    "# ==============================================================================\n",
    "predicciones = modelo.predict(X=X_test)\n",
    "predicciones = predicciones.flatten()\n",
    "\n",
    "# Error de test del modelo \n",
    "# ==============================================================================\n",
    "rmse_ols = mean_squared_error(\n",
    "            y_true  = y_test,\n",
    "            y_pred  = predicciones,\n",
    "            squared = False\n",
    "           )\n",
    "print(\"\")\n",
    "print(f\"El error (rmse) de test es: {rmse_ols}\")"
   ]
  },
  {
   "cell_type": "markdown",
   "id": "279aa3a3",
   "metadata": {},
   "source": [
    "### Agregando el modelo de PCA al modelo de regresión"
   ]
  },
  {
   "cell_type": "code",
   "execution_count": 24,
   "id": "8c899e0f",
   "metadata": {},
   "outputs": [
    {
     "data": {
      "text/html": [
       "<style>#sk-container-id-2 {color: black;background-color: white;}#sk-container-id-2 pre{padding: 0;}#sk-container-id-2 div.sk-toggleable {background-color: white;}#sk-container-id-2 label.sk-toggleable__label {cursor: pointer;display: block;width: 100%;margin-bottom: 0;padding: 0.3em;box-sizing: border-box;text-align: center;}#sk-container-id-2 label.sk-toggleable__label-arrow:before {content: \"▸\";float: left;margin-right: 0.25em;color: #696969;}#sk-container-id-2 label.sk-toggleable__label-arrow:hover:before {color: black;}#sk-container-id-2 div.sk-estimator:hover label.sk-toggleable__label-arrow:before {color: black;}#sk-container-id-2 div.sk-toggleable__content {max-height: 0;max-width: 0;overflow: hidden;text-align: left;background-color: #f0f8ff;}#sk-container-id-2 div.sk-toggleable__content pre {margin: 0.2em;color: black;border-radius: 0.25em;background-color: #f0f8ff;}#sk-container-id-2 input.sk-toggleable__control:checked~div.sk-toggleable__content {max-height: 200px;max-width: 100%;overflow: auto;}#sk-container-id-2 input.sk-toggleable__control:checked~label.sk-toggleable__label-arrow:before {content: \"▾\";}#sk-container-id-2 div.sk-estimator input.sk-toggleable__control:checked~label.sk-toggleable__label {background-color: #d4ebff;}#sk-container-id-2 div.sk-label input.sk-toggleable__control:checked~label.sk-toggleable__label {background-color: #d4ebff;}#sk-container-id-2 input.sk-hidden--visually {border: 0;clip: rect(1px 1px 1px 1px);clip: rect(1px, 1px, 1px, 1px);height: 1px;margin: -1px;overflow: hidden;padding: 0;position: absolute;width: 1px;}#sk-container-id-2 div.sk-estimator {font-family: monospace;background-color: #f0f8ff;border: 1px dotted black;border-radius: 0.25em;box-sizing: border-box;margin-bottom: 0.5em;}#sk-container-id-2 div.sk-estimator:hover {background-color: #d4ebff;}#sk-container-id-2 div.sk-parallel-item::after {content: \"\";width: 100%;border-bottom: 1px solid gray;flex-grow: 1;}#sk-container-id-2 div.sk-label:hover label.sk-toggleable__label {background-color: #d4ebff;}#sk-container-id-2 div.sk-serial::before {content: \"\";position: absolute;border-left: 1px solid gray;box-sizing: border-box;top: 0;bottom: 0;left: 50%;z-index: 0;}#sk-container-id-2 div.sk-serial {display: flex;flex-direction: column;align-items: center;background-color: white;padding-right: 0.2em;padding-left: 0.2em;position: relative;}#sk-container-id-2 div.sk-item {position: relative;z-index: 1;}#sk-container-id-2 div.sk-parallel {display: flex;align-items: stretch;justify-content: center;background-color: white;position: relative;}#sk-container-id-2 div.sk-item::before, #sk-container-id-2 div.sk-parallel-item::before {content: \"\";position: absolute;border-left: 1px solid gray;box-sizing: border-box;top: 0;bottom: 0;left: 50%;z-index: -1;}#sk-container-id-2 div.sk-parallel-item {display: flex;flex-direction: column;z-index: 1;position: relative;background-color: white;}#sk-container-id-2 div.sk-parallel-item:first-child::after {align-self: flex-end;width: 50%;}#sk-container-id-2 div.sk-parallel-item:last-child::after {align-self: flex-start;width: 50%;}#sk-container-id-2 div.sk-parallel-item:only-child::after {width: 0;}#sk-container-id-2 div.sk-dashed-wrapped {border: 1px dashed gray;margin: 0 0.4em 0.5em 0.4em;box-sizing: border-box;padding-bottom: 0.4em;background-color: white;}#sk-container-id-2 div.sk-label label {font-family: monospace;font-weight: bold;display: inline-block;line-height: 1.2em;}#sk-container-id-2 div.sk-label-container {text-align: center;}#sk-container-id-2 div.sk-container {/* jupyter's `normalize.less` sets `[hidden] { display: none; }` but bootstrap.min.css set `[hidden] { display: none !important; }` so we also need the `!important` here to be able to override the default hidden behavior on the sphinx rendered scikit-learn.org. See: https://github.com/scikit-learn/scikit-learn/issues/21755 */display: inline-block !important;position: relative;}#sk-container-id-2 div.sk-text-repr-fallback {display: none;}</style><div id=\"sk-container-id-2\" class=\"sk-top-container\"><div class=\"sk-text-repr-fallback\"><pre>Pipeline(steps=[(&#x27;standardscaler&#x27;, StandardScaler()),\n",
       "                (&#x27;pca&#x27;, PCA(n_components=5)),\n",
       "                (&#x27;linearregression&#x27;, LinearRegression())])</pre><b>In a Jupyter environment, please rerun this cell to show the HTML representation or trust the notebook. <br />On GitHub, the HTML representation is unable to render, please try loading this page with nbviewer.org.</b></div><div class=\"sk-container\" hidden><div class=\"sk-item sk-dashed-wrapped\"><div class=\"sk-label-container\"><div class=\"sk-label sk-toggleable\"><input class=\"sk-toggleable__control sk-hidden--visually\" id=\"sk-estimator-id-2\" type=\"checkbox\" ><label for=\"sk-estimator-id-2\" class=\"sk-toggleable__label sk-toggleable__label-arrow\">Pipeline</label><div class=\"sk-toggleable__content\"><pre>Pipeline(steps=[(&#x27;standardscaler&#x27;, StandardScaler()),\n",
       "                (&#x27;pca&#x27;, PCA(n_components=5)),\n",
       "                (&#x27;linearregression&#x27;, LinearRegression())])</pre></div></div></div><div class=\"sk-serial\"><div class=\"sk-item\"><div class=\"sk-estimator sk-toggleable\"><input class=\"sk-toggleable__control sk-hidden--visually\" id=\"sk-estimator-id-3\" type=\"checkbox\" ><label for=\"sk-estimator-id-3\" class=\"sk-toggleable__label sk-toggleable__label-arrow\">StandardScaler</label><div class=\"sk-toggleable__content\"><pre>StandardScaler()</pre></div></div></div><div class=\"sk-item\"><div class=\"sk-estimator sk-toggleable\"><input class=\"sk-toggleable__control sk-hidden--visually\" id=\"sk-estimator-id-4\" type=\"checkbox\" ><label for=\"sk-estimator-id-4\" class=\"sk-toggleable__label sk-toggleable__label-arrow\">PCA</label><div class=\"sk-toggleable__content\"><pre>PCA(n_components=5)</pre></div></div></div><div class=\"sk-item\"><div class=\"sk-estimator sk-toggleable\"><input class=\"sk-toggleable__control sk-hidden--visually\" id=\"sk-estimator-id-5\" type=\"checkbox\" ><label for=\"sk-estimator-id-5\" class=\"sk-toggleable__label sk-toggleable__label-arrow\">LinearRegression</label><div class=\"sk-toggleable__content\"><pre>LinearRegression()</pre></div></div></div></div></div></div></div>"
      ],
      "text/plain": [
       "Pipeline(steps=[('standardscaler', StandardScaler()),\n",
       "                ('pca', PCA(n_components=5)),\n",
       "                ('linearregression', LinearRegression())])"
      ]
     },
     "execution_count": 24,
     "metadata": {},
     "output_type": "execute_result"
    }
   ],
   "source": [
    "# Entrenamiento modelo de regresión precedido por PCA con escalado\n",
    "# ==============================================================================\n",
    "pipe_modelado = make_pipeline(StandardScaler(), PCA(n_components=5), LinearRegression())\n",
    "pipe_modelado.fit(X=X_train, y=y_train)"
   ]
  },
  {
   "cell_type": "code",
   "execution_count": 25,
   "id": "2294a70b",
   "metadata": {},
   "outputs": [
    {
     "name": "stdout",
     "output_type": "stream",
     "text": [
      "\n",
      "El error (rmse) de test es: 0.33992959954506063\n"
     ]
    }
   ],
   "source": [
    "# Predicciones test\n",
    "# ==============================================================================\n",
    "predicciones = pipe_modelado.predict(X=X_test)\n",
    "predicciones = predicciones.flatten()\n",
    "\n",
    "# Error de test del modelo \n",
    "# ==============================================================================\n",
    "rmse_pcr = mean_squared_error(\n",
    "            y_true  = y_test,\n",
    "            y_pred  = predicciones,\n",
    "            squared = False\n",
    "           )\n",
    "print(\"\")\n",
    "print(f\"El error (rmse) de test es: {rmse_pcr}\")"
   ]
  },
  {
   "cell_type": "code",
   "execution_count": 26,
   "id": "42e46190",
   "metadata": {},
   "outputs": [
    {
     "name": "stdout",
     "output_type": "stream",
     "text": [
      "La predicción es:  [[1.37933299]]\n",
      "La predicción es:  [[1.17524933]]\n",
      "La predicción es:  [[1.66970912]]\n",
      "La predicción es:  [[3.00953119]]\n"
     ]
    }
   ],
   "source": [
    "# prueba del algoritmo\n",
    "\n",
    "print(\"La predicción es: \", pipe_modelado.predict(X=Vector))# == 2\n",
    "print(\"La predicción es: \", pipe_modelado.predict(X=Vector2))# == 1\n",
    "print(\"La predicción es: \", pipe_modelado.predict(X=Vector3))# == 1\n",
    "print(\"La predicción es: \", pipe_modelado.predict(X=Vector4))# == 3\n"
   ]
  }
 ],
 "metadata": {
  "kernelspec": {
   "display_name": "Python 3 (ipykernel)",
   "language": "python",
   "name": "python3"
  },
  "language_info": {
   "codemirror_mode": {
    "name": "ipython",
    "version": 3
   },
   "file_extension": ".py",
   "mimetype": "text/x-python",
   "name": "python",
   "nbconvert_exporter": "python",
   "pygments_lexer": "ipython3",
   "version": "3.9.13"
  }
 },
 "nbformat": 4,
 "nbformat_minor": 5
}
